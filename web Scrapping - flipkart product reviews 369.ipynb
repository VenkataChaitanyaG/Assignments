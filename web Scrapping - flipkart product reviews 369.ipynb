{
 "cells": [
  {
   "cell_type": "code",
   "execution_count": 1,
   "id": "9ebf2e8e",
   "metadata": {},
   "outputs": [],
   "source": [
    "from bs4 import BeautifulSoup as bs\n",
    "import requests"
   ]
  },
  {
   "cell_type": "code",
   "execution_count": 2,
   "id": "265f1083",
   "metadata": {},
   "outputs": [],
   "source": [
    "link = 'https://www.flipkart.com/oneplus-10r-5g-sierra-black-128-gb/product-reviews/itmccf45a394ea16?pid=MOBGEYQ5U6GJTETN&lid=LSTMOBGEYQ5U6GJTETNMESPHO&marketplace=FLIPKART'"
   ]
  },
  {
   "cell_type": "code",
   "execution_count": 3,
   "id": "bd56e46f",
   "metadata": {},
   "outputs": [],
   "source": [
    "page = requests.get(link)"
   ]
  },
  {
   "cell_type": "code",
   "execution_count": 4,
   "id": "031dcf59",
   "metadata": {},
   "outputs": [
    {
     "data": {
      "text/plain": [
       "<Response [200]>"
      ]
     },
     "execution_count": 4,
     "metadata": {},
     "output_type": "execute_result"
    }
   ],
   "source": [
    "page"
   ]
  },
  {
   "cell_type": "code",
   "execution_count": 5,
   "id": "767557c4",
   "metadata": {},
   "outputs": [],
   "source": [
    "soup = bs(page.content,'html.parser')"
   ]
  },
  {
   "cell_type": "code",
   "execution_count": 6,
   "id": "af36c583",
   "metadata": {},
   "outputs": [],
   "source": [
    "soup.prettify()\n",
    "x=soup"
   ]
  },
  {
   "cell_type": "code",
   "execution_count": 7,
   "id": "f1ef677d",
   "metadata": {},
   "outputs": [],
   "source": [
    "names = soup.find_all('p',class_=\"_2sc7ZR _2V5EHH\")"
   ]
  },
  {
   "cell_type": "code",
   "execution_count": 8,
   "id": "d9cc8ae5",
   "metadata": {},
   "outputs": [
    {
     "data": {
      "text/plain": [
       "[<p class=\"_2sc7ZR _2V5EHH\">jayanta borah</p>,\n",
       " <p class=\"_2sc7ZR _2V5EHH\">MD SADDAM  HUSSAIN </p>,\n",
       " <p class=\"_2sc7ZR _2V5EHH\">Abhishek Singh</p>,\n",
       " <p class=\"_2sc7ZR _2V5EHH\">Rambabu M</p>,\n",
       " <p class=\"_2sc7ZR _2V5EHH\">Mohini Mathur</p>,\n",
       " <p class=\"_2sc7ZR _2V5EHH\">Ajitesh Sharma</p>,\n",
       " <p class=\"_2sc7ZR _2V5EHH\">Flipkart Customer</p>,\n",
       " <p class=\"_2sc7ZR _2V5EHH\">Pappu Sharma</p>,\n",
       " <p class=\"_2sc7ZR _2V5EHH\">Manoj Kumar</p>]"
      ]
     },
     "execution_count": 8,
     "metadata": {},
     "output_type": "execute_result"
    }
   ],
   "source": [
    "names"
   ]
  },
  {
   "cell_type": "code",
   "execution_count": 9,
   "id": "f113c99e",
   "metadata": {},
   "outputs": [],
   "source": [
    "cust_name = []\n",
    "for i in range(len(names)):\n",
    "    cust_name.append(names[i].get_text())"
   ]
  },
  {
   "cell_type": "code",
   "execution_count": 10,
   "id": "45aa00ba",
   "metadata": {},
   "outputs": [
    {
     "data": {
      "text/plain": [
       "['jayanta borah',\n",
       " 'MD SADDAM  HUSSAIN ',\n",
       " 'Abhishek Singh',\n",
       " 'Rambabu M',\n",
       " 'Mohini Mathur',\n",
       " 'Ajitesh Sharma',\n",
       " 'Flipkart Customer',\n",
       " 'Pappu Sharma',\n",
       " 'Manoj Kumar']"
      ]
     },
     "execution_count": 10,
     "metadata": {},
     "output_type": "execute_result"
    }
   ],
   "source": [
    "cust_name"
   ]
  },
  {
   "cell_type": "code",
   "execution_count": 11,
   "id": "7f670629",
   "metadata": {},
   "outputs": [],
   "source": [
    "title=soup.find_all('p',class_=\"_2-N8zT\")"
   ]
  },
  {
   "cell_type": "code",
   "execution_count": 12,
   "id": "52f5c65a",
   "metadata": {},
   "outputs": [
    {
     "data": {
      "text/plain": [
       "[<p class=\"_2-N8zT\">Awesome</p>,\n",
       " <p class=\"_2-N8zT\">Pretty good</p>,\n",
       " <p class=\"_2-N8zT\">Terrific purchase</p>,\n",
       " <p class=\"_2-N8zT\">Wonderful</p>,\n",
       " <p class=\"_2-N8zT\">Wonderful</p>,\n",
       " <p class=\"_2-N8zT\">Highly recommended</p>,\n",
       " <p class=\"_2-N8zT\">Good quality product</p>,\n",
       " <p class=\"_2-N8zT\">Good quality product</p>,\n",
       " <p class=\"_2-N8zT\">Utterly Disappointed</p>]"
      ]
     },
     "execution_count": 12,
     "metadata": {},
     "output_type": "execute_result"
    }
   ],
   "source": [
    "title"
   ]
  },
  {
   "cell_type": "code",
   "execution_count": 13,
   "id": "0dfce820",
   "metadata": {},
   "outputs": [],
   "source": [
    "review_title=[]\n",
    "for i in range(len(title)):\n",
    "    review_title.append(title[i].get_text())"
   ]
  },
  {
   "cell_type": "code",
   "execution_count": 14,
   "id": "648a0f9a",
   "metadata": {},
   "outputs": [
    {
     "data": {
      "text/plain": [
       "['Awesome',\n",
       " 'Pretty good',\n",
       " 'Terrific purchase',\n",
       " 'Wonderful',\n",
       " 'Wonderful',\n",
       " 'Highly recommended',\n",
       " 'Good quality product',\n",
       " 'Good quality product',\n",
       " 'Utterly Disappointed']"
      ]
     },
     "execution_count": 14,
     "metadata": {},
     "output_type": "execute_result"
    }
   ],
   "source": [
    "review_title"
   ]
  },
  {
   "cell_type": "code",
   "execution_count": 15,
   "id": "62438cbb",
   "metadata": {},
   "outputs": [],
   "source": [
    "rating=soup.find_all('div',class_=\"_3LWZlK _1BLPMq\")"
   ]
  },
  {
   "cell_type": "code",
   "execution_count": 16,
   "id": "5e6ce651",
   "metadata": {},
   "outputs": [
    {
     "data": {
      "text/plain": [
       "[<div class=\"_3LWZlK _1BLPMq\">5<img class=\"_1wB99o\" src=\"data:image/svg+xml;base64,PHN2ZyB4bWxucz0iaHR0cDovL3d3dy53My5vcmcvMjAwMC9zdmciIHdpZHRoPSIxMyIgaGVpZ2h0PSIxMiI+PHBhdGggZmlsbD0iI0ZGRiIgZD0iTTYuNSA5LjQzOWwtMy42NzQgMi4yMy45NC00LjI2LTMuMjEtMi44ODMgNC4yNTQtLjQwNEw2LjUuMTEybDEuNjkgNC4wMSA0LjI1NC40MDQtMy4yMSAyLjg4Mi45NCA0LjI2eiIvPjwvc3ZnPg==\"/></div>,\n",
       " <div class=\"_3LWZlK _1BLPMq\">4<img class=\"_1wB99o\" src=\"data:image/svg+xml;base64,PHN2ZyB4bWxucz0iaHR0cDovL3d3dy53My5vcmcvMjAwMC9zdmciIHdpZHRoPSIxMyIgaGVpZ2h0PSIxMiI+PHBhdGggZmlsbD0iI0ZGRiIgZD0iTTYuNSA5LjQzOWwtMy42NzQgMi4yMy45NC00LjI2LTMuMjEtMi44ODMgNC4yNTQtLjQwNEw2LjUuMTEybDEuNjkgNC4wMSA0LjI1NC40MDQtMy4yMSAyLjg4Mi45NCA0LjI2eiIvPjwvc3ZnPg==\"/></div>,\n",
       " <div class=\"_3LWZlK _1BLPMq\">5<img class=\"_1wB99o\" src=\"data:image/svg+xml;base64,PHN2ZyB4bWxucz0iaHR0cDovL3d3dy53My5vcmcvMjAwMC9zdmciIHdpZHRoPSIxMyIgaGVpZ2h0PSIxMiI+PHBhdGggZmlsbD0iI0ZGRiIgZD0iTTYuNSA5LjQzOWwtMy42NzQgMi4yMy45NC00LjI2LTMuMjEtMi44ODMgNC4yNTQtLjQwNEw2LjUuMTEybDEuNjkgNC4wMSA0LjI1NC40MDQtMy4yMSAyLjg4Mi45NCA0LjI2eiIvPjwvc3ZnPg==\"/></div>,\n",
       " <div class=\"_3LWZlK _1BLPMq\">5<img class=\"_1wB99o\" src=\"data:image/svg+xml;base64,PHN2ZyB4bWxucz0iaHR0cDovL3d3dy53My5vcmcvMjAwMC9zdmciIHdpZHRoPSIxMyIgaGVpZ2h0PSIxMiI+PHBhdGggZmlsbD0iI0ZGRiIgZD0iTTYuNSA5LjQzOWwtMy42NzQgMi4yMy45NC00LjI2LTMuMjEtMi44ODMgNC4yNTQtLjQwNEw2LjUuMTEybDEuNjkgNC4wMSA0LjI1NC40MDQtMy4yMSAyLjg4Mi45NCA0LjI2eiIvPjwvc3ZnPg==\"/></div>,\n",
       " <div class=\"_3LWZlK _1BLPMq\">4<img class=\"_1wB99o\" src=\"data:image/svg+xml;base64,PHN2ZyB4bWxucz0iaHR0cDovL3d3dy53My5vcmcvMjAwMC9zdmciIHdpZHRoPSIxMyIgaGVpZ2h0PSIxMiI+PHBhdGggZmlsbD0iI0ZGRiIgZD0iTTYuNSA5LjQzOWwtMy42NzQgMi4yMy45NC00LjI2LTMuMjEtMi44ODMgNC4yNTQtLjQwNEw2LjUuMTEybDEuNjkgNC4wMSA0LjI1NC40MDQtMy4yMSAyLjg4Mi45NCA0LjI2eiIvPjwvc3ZnPg==\"/></div>,\n",
       " <div class=\"_3LWZlK _1BLPMq\">5<img class=\"_1wB99o\" src=\"data:image/svg+xml;base64,PHN2ZyB4bWxucz0iaHR0cDovL3d3dy53My5vcmcvMjAwMC9zdmciIHdpZHRoPSIxMyIgaGVpZ2h0PSIxMiI+PHBhdGggZmlsbD0iI0ZGRiIgZD0iTTYuNSA5LjQzOWwtMy42NzQgMi4yMy45NC00LjI2LTMuMjEtMi44ODMgNC4yNTQtLjQwNEw2LjUuMTEybDEuNjkgNC4wMSA0LjI1NC40MDQtMy4yMSAyLjg4Mi45NCA0LjI2eiIvPjwvc3ZnPg==\"/></div>,\n",
       " <div class=\"_3LWZlK _1BLPMq\">4<img class=\"_1wB99o\" src=\"data:image/svg+xml;base64,PHN2ZyB4bWxucz0iaHR0cDovL3d3dy53My5vcmcvMjAwMC9zdmciIHdpZHRoPSIxMyIgaGVpZ2h0PSIxMiI+PHBhdGggZmlsbD0iI0ZGRiIgZD0iTTYuNSA5LjQzOWwtMy42NzQgMi4yMy45NC00LjI2LTMuMjEtMi44ODMgNC4yNTQtLjQwNEw2LjUuMTEybDEuNjkgNC4wMSA0LjI1NC40MDQtMy4yMSAyLjg4Mi45NCA0LjI2eiIvPjwvc3ZnPg==\"/></div>,\n",
       " <div class=\"_3LWZlK _1BLPMq\">4<img class=\"_1wB99o\" src=\"data:image/svg+xml;base64,PHN2ZyB4bWxucz0iaHR0cDovL3d3dy53My5vcmcvMjAwMC9zdmciIHdpZHRoPSIxMyIgaGVpZ2h0PSIxMiI+PHBhdGggZmlsbD0iI0ZGRiIgZD0iTTYuNSA5LjQzOWwtMy42NzQgMi4yMy45NC00LjI2LTMuMjEtMi44ODMgNC4yNTQtLjQwNEw2LjUuMTEybDEuNjkgNC4wMSA0LjI1NC40MDQtMy4yMSAyLjg4Mi45NCA0LjI2eiIvPjwvc3ZnPg==\"/></div>]"
      ]
     },
     "execution_count": 16,
     "metadata": {},
     "output_type": "execute_result"
    }
   ],
   "source": [
    "rating"
   ]
  },
  {
   "cell_type": "code",
   "execution_count": 17,
   "id": "daadf96d",
   "metadata": {},
   "outputs": [],
   "source": [
    "rating_product=[]\n",
    "for i in range(len(rating)):\n",
    "    rating_product.append(rating[i].get_text())"
   ]
  },
  {
   "cell_type": "code",
   "execution_count": 18,
   "id": "a2bc8229",
   "metadata": {},
   "outputs": [],
   "source": [
    "rating_product.append(\"1\")"
   ]
  },
  {
   "cell_type": "code",
   "execution_count": 19,
   "id": "9fb84ec0",
   "metadata": {},
   "outputs": [
    {
     "data": {
      "text/plain": [
       "['5', '4', '5', '5', '4', '5', '4', '4', '1']"
      ]
     },
     "execution_count": 19,
     "metadata": {},
     "output_type": "execute_result"
    }
   ],
   "source": [
    "rating_product"
   ]
  },
  {
   "cell_type": "code",
   "execution_count": 20,
   "id": "f528bb1a",
   "metadata": {},
   "outputs": [],
   "source": [
    "review=soup.find_all('div',class_=\"t-ZTKy\")"
   ]
  },
  {
   "cell_type": "code",
   "execution_count": 21,
   "id": "c417a6d4",
   "metadata": {},
   "outputs": [
    {
     "data": {
      "text/plain": [
       "[<div class=\"t-ZTKy\"><div><div class=\"\">Nice mobile 👍👍👍</div><span class=\"_1H-bmy\"><span>READ MORE</span></span></div></div>,\n",
       " <div class=\"t-ZTKy\"><div><div class=\"\">Nice</div><span class=\"_1H-bmy\"><span>READ MORE</span></span></div></div>,\n",
       " <div class=\"t-ZTKy\"><div><div class=\"\">It is awesome 😎</div><span class=\"_1H-bmy\"><span>READ MORE</span></span></div></div>,\n",
       " <div class=\"t-ZTKy\"><div><div class=\"\">Excellent</div><span class=\"_1H-bmy\"><span>READ MORE</span></span></div></div>,\n",
       " <div class=\"t-ZTKy\"><div><div class=\"\">Camera is good but battery is not good it discharge so fast , if u will use  continue</div><span class=\"_1H-bmy\"><span>READ MORE</span></span></div></div>,\n",
       " <div class=\"t-ZTKy\"><div><div class=\"\">Amazing one.</div><span class=\"_1H-bmy\"><span>READ MORE</span></span></div></div>,\n",
       " <div class=\"t-ZTKy\"><div><div class=\"\">First class camera</div><span class=\"_1H-bmy\"><span>READ MORE</span></span></div></div>,\n",
       " <div class=\"t-ZTKy\"><div><div class=\"\">Nice</div><span class=\"_1H-bmy\"><span>READ MORE</span></span></div></div>,\n",
       " <div class=\"t-ZTKy\"><div><div class=\"\">Too much disturbance is coming while taking phone</div><span class=\"_1H-bmy\"><span>READ MORE</span></span></div></div>]"
      ]
     },
     "execution_count": 21,
     "metadata": {},
     "output_type": "execute_result"
    }
   ],
   "source": [
    "review"
   ]
  },
  {
   "cell_type": "code",
   "execution_count": 22,
   "id": "c0b92282",
   "metadata": {},
   "outputs": [],
   "source": [
    "review_product=[]\n",
    "for i in range(len(review)):\n",
    "    review_product.append(review[i].get_text())"
   ]
  },
  {
   "cell_type": "code",
   "execution_count": 23,
   "id": "33b2d220",
   "metadata": {},
   "outputs": [
    {
     "data": {
      "text/plain": [
       "['Nice mobile 👍👍👍READ MORE',\n",
       " 'NiceREAD MORE',\n",
       " 'It is awesome 😎READ MORE',\n",
       " 'ExcellentREAD MORE',\n",
       " 'Camera is good but battery is not good it discharge so fast , if u will use  continueREAD MORE',\n",
       " 'Amazing one.READ MORE',\n",
       " 'First class cameraREAD MORE',\n",
       " 'NiceREAD MORE',\n",
       " 'Too much disturbance is coming while taking phoneREAD MORE']"
      ]
     },
     "execution_count": 23,
     "metadata": {},
     "output_type": "execute_result"
    }
   ],
   "source": [
    "review_product"
   ]
  },
  {
   "cell_type": "code",
   "execution_count": 24,
   "id": "dcb686a8",
   "metadata": {},
   "outputs": [],
   "source": [
    "review_product=[i.strip(\"READ MORE\") for i in review_product]"
   ]
  },
  {
   "cell_type": "code",
   "execution_count": 25,
   "id": "f6d9ed4b",
   "metadata": {},
   "outputs": [
    {
     "data": {
      "text/plain": [
       "['Nice mobile 👍👍👍',\n",
       " 'Nice',\n",
       " 'It is awesome 😎',\n",
       " 'xcellent',\n",
       " 'Camera is good but battery is not good it discharge so fast , if u will use  continue',\n",
       " 'mazing one.',\n",
       " 'First class camera',\n",
       " 'Nice',\n",
       " 'Too much disturbance is coming while taking phone']"
      ]
     },
     "execution_count": 25,
     "metadata": {},
     "output_type": "execute_result"
    }
   ],
   "source": [
    "review_product"
   ]
  },
  {
   "cell_type": "code",
   "execution_count": 26,
   "id": "1b9b3789",
   "metadata": {},
   "outputs": [],
   "source": [
    "import pandas as pd"
   ]
  },
  {
   "cell_type": "code",
   "execution_count": 27,
   "id": "354e9ba8",
   "metadata": {},
   "outputs": [],
   "source": [
    "df=pd.DataFrame()"
   ]
  },
  {
   "cell_type": "code",
   "execution_count": 28,
   "id": "b330158d",
   "metadata": {},
   "outputs": [],
   "source": [
    "df[\"Customer Name\"]=cust_name\n",
    "df[\"Review Title\"]=review_title\n",
    "df[\"Rating\"]=rating_product\n",
    "df[\"reviews of product\"]=review_product"
   ]
  },
  {
   "cell_type": "code",
   "execution_count": 30,
   "id": "adc1e4c4",
   "metadata": {},
   "outputs": [
    {
     "data": {
      "text/html": [
       "<div>\n",
       "<style scoped>\n",
       "    .dataframe tbody tr th:only-of-type {\n",
       "        vertical-align: middle;\n",
       "    }\n",
       "\n",
       "    .dataframe tbody tr th {\n",
       "        vertical-align: top;\n",
       "    }\n",
       "\n",
       "    .dataframe thead th {\n",
       "        text-align: right;\n",
       "    }\n",
       "</style>\n",
       "<table border=\"1\" class=\"dataframe\">\n",
       "  <thead>\n",
       "    <tr style=\"text-align: right;\">\n",
       "      <th></th>\n",
       "      <th>Customer Name</th>\n",
       "      <th>Review Title</th>\n",
       "      <th>Rating</th>\n",
       "      <th>reviews of product</th>\n",
       "    </tr>\n",
       "  </thead>\n",
       "  <tbody>\n",
       "    <tr>\n",
       "      <th>0</th>\n",
       "      <td>jayanta borah</td>\n",
       "      <td>Awesome</td>\n",
       "      <td>5</td>\n",
       "      <td>Nice mobile 👍👍👍</td>\n",
       "    </tr>\n",
       "    <tr>\n",
       "      <th>1</th>\n",
       "      <td>MD SADDAM  HUSSAIN</td>\n",
       "      <td>Pretty good</td>\n",
       "      <td>4</td>\n",
       "      <td>Nice</td>\n",
       "    </tr>\n",
       "    <tr>\n",
       "      <th>2</th>\n",
       "      <td>Abhishek Singh</td>\n",
       "      <td>Terrific purchase</td>\n",
       "      <td>5</td>\n",
       "      <td>It is awesome 😎</td>\n",
       "    </tr>\n",
       "    <tr>\n",
       "      <th>3</th>\n",
       "      <td>Rambabu M</td>\n",
       "      <td>Wonderful</td>\n",
       "      <td>5</td>\n",
       "      <td>xcellent</td>\n",
       "    </tr>\n",
       "    <tr>\n",
       "      <th>4</th>\n",
       "      <td>Mohini Mathur</td>\n",
       "      <td>Wonderful</td>\n",
       "      <td>4</td>\n",
       "      <td>Camera is good but battery is not good it disc...</td>\n",
       "    </tr>\n",
       "    <tr>\n",
       "      <th>5</th>\n",
       "      <td>Ajitesh Sharma</td>\n",
       "      <td>Highly recommended</td>\n",
       "      <td>5</td>\n",
       "      <td>mazing one.</td>\n",
       "    </tr>\n",
       "    <tr>\n",
       "      <th>6</th>\n",
       "      <td>Flipkart Customer</td>\n",
       "      <td>Good quality product</td>\n",
       "      <td>4</td>\n",
       "      <td>First class camera</td>\n",
       "    </tr>\n",
       "    <tr>\n",
       "      <th>7</th>\n",
       "      <td>Pappu Sharma</td>\n",
       "      <td>Good quality product</td>\n",
       "      <td>4</td>\n",
       "      <td>Nice</td>\n",
       "    </tr>\n",
       "    <tr>\n",
       "      <th>8</th>\n",
       "      <td>Manoj Kumar</td>\n",
       "      <td>Utterly Disappointed</td>\n",
       "      <td>1</td>\n",
       "      <td>Too much disturbance is coming while taking phone</td>\n",
       "    </tr>\n",
       "  </tbody>\n",
       "</table>\n",
       "</div>"
      ],
      "text/plain": [
       "         Customer Name          Review Title Rating  \\\n",
       "0        jayanta borah               Awesome      5   \n",
       "1  MD SADDAM  HUSSAIN            Pretty good      4   \n",
       "2       Abhishek Singh     Terrific purchase      5   \n",
       "3            Rambabu M             Wonderful      5   \n",
       "4        Mohini Mathur             Wonderful      4   \n",
       "5       Ajitesh Sharma    Highly recommended      5   \n",
       "6    Flipkart Customer  Good quality product      4   \n",
       "7         Pappu Sharma  Good quality product      4   \n",
       "8          Manoj Kumar  Utterly Disappointed      1   \n",
       "\n",
       "                                  reviews of product  \n",
       "0                                    Nice mobile 👍👍👍  \n",
       "1                                               Nice  \n",
       "2                                    It is awesome 😎  \n",
       "3                                           xcellent  \n",
       "4  Camera is good but battery is not good it disc...  \n",
       "5                                        mazing one.  \n",
       "6                                 First class camera  \n",
       "7                                               Nice  \n",
       "8  Too much disturbance is coming while taking phone  "
      ]
     },
     "execution_count": 30,
     "metadata": {},
     "output_type": "execute_result"
    }
   ],
   "source": [
    "df"
   ]
  },
  {
   "cell_type": "code",
   "execution_count": null,
   "id": "c27108c2",
   "metadata": {},
   "outputs": [],
   "source": []
  }
 ],
 "metadata": {
  "kernelspec": {
   "display_name": "Python 3 (ipykernel)",
   "language": "python",
   "name": "python3"
  },
  "language_info": {
   "codemirror_mode": {
    "name": "ipython",
    "version": 3
   },
   "file_extension": ".py",
   "mimetype": "text/x-python",
   "name": "python",
   "nbconvert_exporter": "python",
   "pygments_lexer": "ipython3",
   "version": "3.9.12"
  }
 },
 "nbformat": 4,
 "nbformat_minor": 5
}
